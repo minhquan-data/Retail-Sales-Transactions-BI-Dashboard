{
  "nbformat": 4,
  "nbformat_minor": 0,
  "metadata": {
    "colab": {
      "provenance": []
    },
    "kernelspec": {
      "name": "python3",
      "display_name": "Python 3"
    },
    "language_info": {
      "name": "python"
    }
  },
  "cells": [
    {
      "cell_type": "code",
      "execution_count": null,
      "metadata": {
        "colab": {
          "base_uri": "https://localhost:8080/"
        },
        "id": "4JtU3A0W3ikW",
        "outputId": "2c5d9e22-f6e0-4709-ae71-a482677c11e9"
      },
      "outputs": [
        {
          "output_type": "stream",
          "name": "stdout",
          "text": [
            "<class 'pandas.core.frame.DataFrame'>\n",
            "RangeIndex: 131706 entries, 0 to 131705\n",
            "Data columns (total 8 columns):\n",
            " #   Column          Non-Null Count   Dtype  \n",
            "---  ------          --------------   -----  \n",
            " 0   Unnamed: 0      131706 non-null  int64  \n",
            " 1   Date            131706 non-null  object \n",
            " 2   Customer_ID     131706 non-null  int64  \n",
            " 3   Transaction_ID  131706 non-null  int64  \n",
            " 4   SKU_Category    131706 non-null  object \n",
            " 5   SKU             131706 non-null  object \n",
            " 6   Quantity        131706 non-null  float64\n",
            " 7   Sales_Amount    131706 non-null  float64\n",
            "dtypes: float64(2), int64(3), object(3)\n",
            "memory usage: 8.0+ MB\n"
          ]
        },
        {
          "output_type": "execute_result",
          "data": {
            "text/plain": [
              "(None,\n",
              "    Unnamed: 0        Date  Customer_ID  Transaction_ID SKU_Category    SKU  \\\n",
              " 0           1  02/01/2016         2547               1          X52  0EM7L   \n",
              " 1           2  02/01/2016          822               2          2ML  68BRQ   \n",
              " 2           3  02/01/2016         3686               3          0H2  CZUZX   \n",
              " 3           4  02/01/2016         3719               4          0H2  549KK   \n",
              " 4           5  02/01/2016         9200               5          0H2  K8EHH   \n",
              " \n",
              "    Quantity  Sales_Amount  \n",
              " 0       1.0          3.13  \n",
              " 1       1.0          5.46  \n",
              " 2       1.0          6.35  \n",
              " 3       1.0          5.59  \n",
              " 4       1.0          6.88  )"
            ]
          },
          "metadata": {},
          "execution_count": 2
        }
      ],
      "source": [
        "import pandas as pd\n",
        "\n",
        "df=pd.read_csv('scanner_data.csv')\n",
        "\n",
        "df.info(), df.head()"
      ]
    },
    {
      "cell_type": "code",
      "source": [
        "# Làm sạch dữ liệu\n",
        "df_cleaned = df.drop(columns=['Unnamed: 0'])\n",
        "df_cleaned['Date'] = pd.to_datetime(df_cleaned['Date'], format=\"%d/%m/%Y\")\n",
        "\n",
        "# Phân tích tổng quan\n",
        "summary = {\n",
        "    \"Tổng số giao dịch\": df_cleaned['Transaction_ID'].nunique(),\n",
        "    \"Tổng số khách hàng\": df_cleaned['Customer_ID'].nunique(),\n",
        "    \"Tổng số sản phẩm (SKU)\": df_cleaned['SKU'].nunique(),\n",
        "    \"Tổng số danh mục sản phẩm\": df_cleaned['SKU_Category'].nunique(),\n",
        "    \"Tổng số lượng bán ra\": df_cleaned['Quantity'].sum(),\n",
        "    \"Tổng doanh thu\": df_cleaned['Sales_Amount'].sum(),\n",
        "    \"Doanh thu trung bình mỗi giao dịch\": df_cleaned.groupby('Transaction_ID')['Sales_Amount'].sum().mean()\n",
        "}\n",
        "\n",
        "summary\n"
      ],
      "metadata": {
        "colab": {
          "base_uri": "https://localhost:8080/"
        },
        "id": "RpkLo-Dn4edK",
        "outputId": "e32e5503-c47a-44b5-b35d-38c56a51ddc1"
      },
      "execution_count": null,
      "outputs": [
        {
          "output_type": "execute_result",
          "data": {
            "text/plain": [
              "{'Tổng số giao dịch': 64682,\n",
              " 'Tổng số khách hàng': 22625,\n",
              " 'Tổng số sản phẩm (SKU)': 5242,\n",
              " 'Tổng số danh mục sản phẩm': 187,\n",
              " 'Tổng số lượng bán ra': np.float64(195624.429),\n",
              " 'Tổng doanh thu': np.float64(1578038.6199999999),\n",
              " 'Doanh thu trung bình mỗi giao dịch': np.float64(24.396874246312727)}"
            ]
          },
          "metadata": {},
          "execution_count": 3
        }
      ]
    },
    {
      "cell_type": "code",
      "source": [
        "# Chuẩn bị dữ liệu cho các bảng Dimension và Fact\n",
        "\n",
        "# Bảng DimCustomer\n",
        "dim_customer = df_cleaned[['Customer_ID']].drop_duplicates()\n",
        "\n",
        "# Bảng DimProduct\n",
        "dim_product = df_cleaned[['SKU', 'SKU_Category']].drop_duplicates()\n",
        "\n",
        "# Bảng DimDate\n",
        "dim_date = df_cleaned[['Date']].drop_duplicates()\n",
        "dim_date['Day'] = dim_date['Date'].dt.day\n",
        "dim_date['Month'] = dim_date['Date'].dt.month\n",
        "dim_date['Quarter'] = dim_date['Date'].dt.quarter\n",
        "dim_date['Year'] = dim_date['Date'].dt.year\n",
        "\n",
        "# Bảng FactSales\n",
        "fact_sales = df_cleaned[['Transaction_ID', 'Customer_ID', 'SKU', 'Date', 'Quantity', 'Sales_Amount']]\n",
        "\n",
        "# Hiển thị số lượng bản ghi để tham khảo\n",
        "{\n",
        "    \"DimCustomer\": len(dim_customer),\n",
        "    \"DimProduct\": len(dim_product),\n",
        "    \"DimDate\": len(dim_date),\n",
        "    \"FactSales\": len(fact_sales)\n",
        "}\n"
      ],
      "metadata": {
        "colab": {
          "base_uri": "https://localhost:8080/"
        },
        "id": "gtN7_y04GizJ",
        "outputId": "eab77373-aab4-43cb-9daa-7f8e02c6f926"
      },
      "execution_count": null,
      "outputs": [
        {
          "output_type": "execute_result",
          "data": {
            "text/plain": [
              "{'DimCustomer': 22625, 'DimProduct': 5242, 'DimDate': 363, 'FactSales': 131706}"
            ]
          },
          "metadata": {},
          "execution_count": 4
        }
      ]
    },
    {
      "cell_type": "code",
      "source": [
        "# Xuất các bảng ra 4 file CSV để dễ dàng import vào SQL Server\n",
        "dim_customer.to_csv(\"DimCustomer.csv\", index=False)\n",
        "dim_product.to_csv(\"DimProduct.csv\", index=False)\n",
        "dim_date.to_csv(\"DimDate.csv\", index=False)\n",
        "fact_sales.to_csv(\"FactSales.csv\", index=False)\n",
        "\n",
        "# Trả về link tải\n",
        "[\n",
        "    \"✅ File đã sẵn sàng để tải và import vào SQL Server:\",\n",
        "    {\"DimCustomer.csv\": \"DimCustomer.csv\"},\n",
        "    {\"DimProduct.csv\": \"DimProduct.csv\"},\n",
        "    {\"DimDate.csv\": \"DimDate.csv\"},\n",
        "    {\"FactSales.csv\": \"FactSales.csv\"}\n",
        "]\n"
      ],
      "metadata": {
        "colab": {
          "base_uri": "https://localhost:8080/"
        },
        "id": "VPsB9jGlGoNA",
        "outputId": "569deeae-42ca-441d-a722-f5cd92eef441"
      },
      "execution_count": null,
      "outputs": [
        {
          "output_type": "execute_result",
          "data": {
            "text/plain": [
              "['✅ File đã sẵn sàng để tải và import vào SQL Server:',\n",
              " {'DimCustomer.csv': 'DimCustomer.csv'},\n",
              " {'DimProduct.csv': 'DimProduct.csv'},\n",
              " {'DimDate.csv': 'DimDate.csv'},\n",
              " {'FactSales.csv': 'FactSales.csv'}]"
            ]
          },
          "metadata": {},
          "execution_count": 6
        }
      ]
    }
  ]
}